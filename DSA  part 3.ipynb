{
 "cells": [
  {
   "cell_type": "code",
   "execution_count": null,
   "id": "13debdfe-b902-4846-ac8d-16338c388b1d",
   "metadata": {},
   "outputs": [
    {
     "name": "stdout",
     "output_type": "stream",
     "text": [
      "hi\n",
      "90\n",
      "45\n",
      "12\n",
      "78\n",
      "56\n",
      "0\n",
      "a a\n",
      "a b\n",
      "a c\n",
      "b a\n",
      "b b\n",
      "b c\n",
      "c a\n",
      "c b\n",
      "c c\n"
     ]
    }
   ],
   "source": [
    "# time complexity\n",
    "\"\"\" \n",
    "# bast case, average case, wost case === we should consider the wost case\n",
    "O(1) — Constant Time\n",
    "O(log n) — Logarithmic Time\n",
    "O(n) — Linear Time\n",
    "O(n log n) — Log-Linear Time\n",
    "O(n²) — Quadratic Time\n",
    "O(2ⁿ) — Exponential Time\n",
    "\"\"\"\n",
    "## O(1) - Constant Time\n",
    "print(\"hi\")\n",
    "print(45+45)\n",
    "\n",
    "#O(n) - Linear Time\n",
    "k=(45,12,78,56,0)\n",
    "for i in k:\n",
    "    print(i)\n",
    "# O(n²) — Quadratic Time\n",
    "def print_pairs(data):\n",
    "  for item_1 in data: # Outer loop: n times\n",
    "    for item_2 in data: # Inner loop: n times\n",
    "      print(item_1, item_2) # Total operations: n * n = n²\n",
    "\n",
    "my_list = ['a', 'b', 'c']\n",
    "print_pairs(my_list) # Will run 3 * 3 = 9 times\n",
    "\n"
   ]
  },
  {
   "cell_type": "code",
   "execution_count": null,
   "id": "4c6f3acd-37c1-4cdc-bf50-6cb7834c7b90",
   "metadata": {},
   "outputs": [
    {
     "name": "stdout",
     "output_type": "stream",
     "text": [
      "45\n",
      "12\n",
      "78\n",
      "56\n",
      "0\n"
     ]
    }
   ],
   "source": [
    "#O(log n) — Logarithmic Time\n",
    "def binary_search(sorted_list, target):\n",
    "    low = 0\n",
    "    high = len(sorted_list) - 1\n",
    "    while low <= high:\n",
    "        mid = (low + high) // 2\n",
    "        if sorted_list[mid] == target:\n",
    "            return True\n",
    "        elif sorted_list[mid] < target:\n",
    "            low = mid + 1\n",
    "        else:\n",
    "            high = mid - 1\n",
    "    return False\n",
    "\n",
    "# Each step halves the search space, making it O(log n)\n",
    "\n",
    "\n",
    "# O(n log n) — Log-Linear Time\n",
    "my_list = [3, 1, 4, 1, 5, 9, 2, 6]\n",
    "my_list.sort() # This operation is O(n log n)\n",
    "print(my_list)"
   ]
  },
  {
   "cell_type": "raw",
   "id": "044c1135-d8f7-4337-b881-b7b592107660",
   "metadata": {},
   "source": [
    "O(1) — Constant Space\n",
    "O(n) — Linear Space\n",
    "O(log n) — Logarithmic Space"
   ]
  },
  {
   "cell_type": "code",
   "execution_count": 2,
   "id": "137d9aea-3586-4c68-afbf-19d2c4dfbe2a",
   "metadata": {},
   "outputs": [
    {
     "name": "stdout",
     "output_type": "stream",
     "text": [
      "55\n"
     ]
    }
   ],
   "source": [
    "#O(1) — Constant Space\n",
    "def sum_list(data):\n",
    "  total = 0 # One variable, O(1) space\n",
    "  for item in data:\n",
    "    total += item\n",
    "  return total\n",
    "\n",
    "my_list = [1, 2, 3, 4, 5, 6, 7, 8, 9, 10]\n",
    "print(sum_list(my_list))"
   ]
  },
  {
   "cell_type": "code",
   "execution_count": null,
   "id": "4a5227fe-770d-46d8-804a-4b23dae0713e",
   "metadata": {},
   "outputs": [],
   "source": [
    "#O(n) — Linear Space\n",
    "def copy_list(data):\n",
    "  new_list = [] # This list will grow\n",
    "  for item in data:\n",
    "    new_list.append(item) # We add n elements to it\n",
    "  return new_list # The returned list has size n, so O(n) space\n",
    "\n",
    "my_list = ['a', 'b', 'c', 'd']\n",
    "new = copy_list(my_list)"
   ]
  },
  {
   "cell_type": "code",
   "execution_count": null,
   "id": "7224a3f0-c2eb-4b96-a40b-2f1abaee3abd",
   "metadata": {},
   "outputs": [],
   "source": [
    "#O(log n) — Logarithmic Space\n",
    "def recursive_binary_search(data, target, low, high):\n",
    "    # This function's space complexity comes from the recursion depth (call stack).\n",
    "    # Since we halve the search space each time, the max depth is log n.\n",
    "    if low > high:\n",
    "        return False\n",
    "    mid = (low + high) // 2\n",
    "    if data[mid] == target:\n",
    "        return True\n",
    "    elif data[mid] < target:\n",
    "        return recursive_binary_search(data, target, mid + 1, high)\n",
    "    else:\n",
    "        return recursive_binary_search(data, target, low, mid - 1)"
   ]
  },
  {
   "cell_type": "code",
   "execution_count": 3,
   "id": "01d04d3e-e0ba-4794-8c8e-2dcb39905a82",
   "metadata": {},
   "outputs": [
    {
     "name": "stdout",
     "output_type": "stream",
     "text": [
      "-----------------------------time and space complexity over -------------------------------------------------------\n"
     ]
    }
   ],
   "source": [
    "print(\"-----------------------------time and space complexity over -------------------------------------------------------\")"
   ]
  },
  {
   "cell_type": "code",
   "execution_count": 31,
   "id": "ff7c9036-9cd9-4cbe-8f14-5a0f83438d3e",
   "metadata": {},
   "outputs": [
    {
     "name": "stdout",
     "output_type": "stream",
     "text": [
      "array('i', [45, 85, 96, 78, 2])\n",
      "array('i', [5, 45, 96, 78, 2])\n"
     ]
    }
   ],
   "source": [
    "#data structure\n",
    "#array\n",
    "# same datat type like int, flot any one\n",
    "# Static (begining only fix the length)\n",
    "# order (in memory) 1 int to save = 4 byte\n",
    "# choosing (acess, insert, delete, search)\n",
    "\n",
    "#import array          (another way of calling)\n",
    "\n",
    "from array import *\n",
    "ar=array(\"i\",[45,85,96,78,2])\n",
    "print(ar)\n",
    "ar.insert(0,5)\n",
    "ar.pop(2)\n",
    "print(ar)"
   ]
  },
  {
   "cell_type": "code",
   "execution_count": 1,
   "id": "b843512e-646a-4b1c-af17-7afb687b5349",
   "metadata": {},
   "outputs": [
    {
     "name": "stdout",
     "output_type": "stream",
     "text": [
      "yes\n",
      "10\n"
     ]
    }
   ],
   "source": [
    "# Data Structures Searching Algorithms\n",
    "# 1. linear search \n",
    "a=[12,52,85,65,89,8,8,88,78,44,5]\n",
    "x=5\n",
    "for i in range(0,len(a)):\n",
    "    if a[i]==x:\n",
    "        print(\"yes\")\n",
    "        print(i)\n",
    "        break\n",
    "else:\n",
    "    print(\"no\")"
   ]
  },
  {
   "cell_type": "code",
   "execution_count": 300,
   "id": "946c792e-d061-4545-8088-784d3e612750",
   "metadata": {},
   "outputs": [
    {
     "name": "stdout",
     "output_type": "stream",
     "text": [
      "[4, 5, 22, 33, 74, 78, 85, 85, 85, 88, 89, 95]\n",
      "10\n"
     ]
    }
   ],
   "source": [
    "# 2. binary search\n",
    "data = [4,78,85,89,85,74,95,88,5,22,33,85]\n",
    "data.sort()\n",
    "print(data)\n",
    "target=89\n",
    "l=0\n",
    "r=len(data)-1\n",
    "while l<=r:\n",
    "    m=(l+r)//2\n",
    "    if target==data[m]:\n",
    "        print(m)\n",
    "        break\n",
    "    elif target >data[m]:\n",
    "        l=m+1\n",
    "    elif target <data[m]:\n",
    "        r=m-1"
   ]
  },
  {
   "cell_type": "code",
   "execution_count": 311,
   "id": "f906298a-c113-4692-b8b3-9aeac180ca18",
   "metadata": {},
   "outputs": [
    {
     "name": "stdout",
     "output_type": "stream",
     "text": [
      "enter the number   5\n"
     ]
    },
    {
     "name": "stdout",
     "output_type": "stream",
     "text": [
      "fact 120\n"
     ]
    }
   ],
   "source": [
    "#Recursion \n",
    "a=int(input(\"enter the number  \"))\n",
    "def fact(a):\n",
    "    if a==1:\n",
    "        return 1\n",
    "    return a*fact(a-1)\n",
    "print(\"fact\",fact(a))"
   ]
  },
  {
   "cell_type": "markdown",
   "id": "d80e6f5f-08d3-44c0-b32e-d8797fd44f92",
   "metadata": {},
   "source": [
    "## Searching Algorithms \n",
    "linear search  ( check one by one element)\n"
   ]
  },
  {
   "cell_type": "code",
   "execution_count": 20,
   "id": "84163380-7e95-4108-a6e4-91a96c9b7e4d",
   "metadata": {},
   "outputs": [
    {
     "name": "stdout",
     "output_type": "stream",
     "text": [
      "3\n",
      "yes\n"
     ]
    }
   ],
   "source": [
    "a=[45,25,6,3,78,45,14,25]\n",
    "x=3\n",
    "for i in range(0,len(a)):\n",
    "    if a[i]==x:\n",
    "        print(i)\n",
    "        break\n",
    "else:\n",
    "    print(\"not found\")\n",
    "\n",
    "#=============================\n",
    "for i in a:\n",
    "    if i == x:\n",
    "        print(\"yes\")\n",
    "        break\n",
    "else:\n",
    "    print(\"not there\")\n",
    "\n",
    "# binary search (divide the array into 2 parts will search the data )\n"
   ]
  },
  {
   "cell_type": "markdown",
   "id": "df1934a1-55bd-4baf-b522-b2b1e454ebdd",
   "metadata": {},
   "source": [
    "## Recursion"
   ]
  },
  {
   "cell_type": "code",
   "execution_count": 2,
   "id": "2e1cd428-8108-4870-b46f-168e62a41203",
   "metadata": {},
   "outputs": [
    {
     "name": "stdout",
     "output_type": "stream",
     "text": [
      "720\n",
      "reduce 1\n",
      "multiply 6\n",
      "reduce 6\n",
      "multiply 36\n",
      "reduce 36\n",
      "multiply 216\n",
      "reduce 216\n",
      "multiply 1296\n",
      "reduce 1296\n",
      "multiply 7776\n",
      "7776\n"
     ]
    }
   ],
   "source": [
    "n=6\n",
    "\n",
    "def fact(n):\n",
    "    if n == 1:\n",
    "        return 1\n",
    "    return n*fact(n-1)\n",
    "print(fact(n))\n",
    "\n",
    "k=6\n",
    "\n",
    "def facts(k):\n",
    "    if k == 1:\n",
    "        return 1\n",
    "    else:\n",
    "        factorial = facts(k-1)\n",
    "        print(\"reduce\",factorial)\n",
    "        m = n*factorial\n",
    "        print(\"multiply\",m)\n",
    "        return m\n",
    "print(facts(k))\n"
   ]
  },
  {
   "cell_type": "markdown",
   "id": "90e0f599-4775-4514-8c09-eab236090577",
   "metadata": {},
   "source": [
    "## Bubble Sort - Sorting Algorithm "
   ]
  },
  {
   "cell_type": "code",
   "execution_count": 2,
   "id": "d03391bb-8d8a-4dc7-aa5f-96f217111f6f",
   "metadata": {},
   "outputs": [
    {
     "name": "stdout",
     "output_type": "stream",
     "text": [
      "[4, 8, 12, 45, 45, 78, 85, 88, 89]\n"
     ]
    }
   ],
   "source": [
    "#     https://www.youtube.com/shorts/2ohCGlt0rLI\n",
    "\n",
    "a=[45,12,85,89,45,4,78,8,88]\n",
    "\n",
    "for i in range (0, len(a)-1):  # this for loop determine the how many time to run\n",
    "    for j in range (0, len(a)-1):   # this for loop to change the value \n",
    "        if a[j]>a[j+1]:\n",
    "            a[j],a[j+1]=a[j+1],a[j]\n",
    "print(a)"
   ]
  },
  {
   "cell_type": "code",
   "execution_count": 1,
   "id": "088e2478-00c8-4c69-b87a-39ccd11ba74a",
   "metadata": {},
   "outputs": [
    {
     "name": "stdout",
     "output_type": "stream",
     "text": [
      "[4, 8, 12, 45, 45, 78, 85, 88, 89]\n"
     ]
    }
   ],
   "source": [
    "a = [45, 12, 85, 89, 45, 4, 78, 8, 88]\n",
    "while True: \n",
    "    t = True  # Assume the list is sorted\n",
    "    for j in range(0, len(a) - 1):  # Iterate through the list\n",
    "        if a[j] > a[j+1]:  # Swap if elements are out of order\n",
    "            a[j], a[j+1] = a[j+1], a[j]\n",
    "            t = False  # Mark as not sorted since we made a swap\n",
    "    if t:  # If no swaps were made, the list is sorted\n",
    "        break  # Exit the while loop\n",
    "print(a)\n"
   ]
  },
  {
   "cell_type": "markdown",
   "id": "a9b4557e-71c6-4356-911a-5fac61cb0daf",
   "metadata": {},
   "source": [
    "## Quick Sort"
   ]
  },
  {
   "cell_type": "code",
   "execution_count": 3,
   "id": "3ea46012-d64d-434d-9cd9-40a2c1d485cd",
   "metadata": {},
   "outputs": [
    {
     "name": "stdout",
     "output_type": "stream",
     "text": [
      "Sorted: [1, 5, 5, 11, 12, 22, 25, 55, 64, 85, 89, 999]\n"
     ]
    }
   ],
   "source": [
    "numbers = [64, 25, 12, 22, 11,1,55,85,89,5,999,5]\n",
    "\n",
    "for i in range(len(numbers)):\n",
    "    min_idx = i\n",
    "    for j in range(i + 1, len(numbers)):\n",
    "        if numbers[j] < numbers[min_idx]:\n",
    "            min_idx = j\n",
    "    numbers[i], numbers[min_idx] = numbers[min_idx], numbers[i]\n",
    "\n",
    "print(\"Sorted:\", numbers)"
   ]
  },
  {
   "cell_type": "markdown",
   "id": "617623f9-c80e-40b5-9fe8-02d4092d1e5e",
   "metadata": {},
   "source": [
    "## Insertion Sort - Sorting Algorithm "
   ]
  },
  {
   "cell_type": "code",
   "execution_count": null,
   "id": "26ea5487-5802-44fd-bbaf-865af0f7ba38",
   "metadata": {},
   "outputs": [],
   "source": [
    "numbers = [64, 25, 12, 22, 11]\n",
    "\n",
    "for i in range(1, len(numbers)):\n",
    "    key = numbers[i]\n",
    "    j = i - 1\n",
    "    \n",
    "    while j >= 0 and key < numbers[j]:\n",
    "        numbers[j + 1] = numbers[j]\n",
    "        j -= 1\n",
    "    \n",
    "    numbers[j + 1] = key\n",
    "\n",
    "print(\"Sorted:\", numbers)"
   ]
  },
  {
   "cell_type": "markdown",
   "id": "9a3d5e50-4634-4fd0-91e5-c33e7cbc2471",
   "metadata": {},
   "source": [
    "## Merge Sort "
   ]
  },
  {
   "cell_type": "code",
   "execution_count": 6,
   "id": "4f7968ad-00c8-4f33-bdeb-10aa7ad1c10d",
   "metadata": {},
   "outputs": [
    {
     "name": "stdout",
     "output_type": "stream",
     "text": [
      "Sorted: [1, 11, 12, 22, 25, 64, 89, 22222]\n"
     ]
    }
   ],
   "source": [
    "def merge_sort_simple(arr):\n",
    "    if len(arr) > 1:\n",
    "        mid = len(arr) // 2\n",
    "        left = arr[:mid]\n",
    "        right = arr[mid:]\n",
    "        \n",
    "        merge_sort_simple(left)\n",
    "        merge_sort_simple(right)\n",
    "        \n",
    "        i = j = k = 0\n",
    "        \n",
    "        # Merge the arrays\n",
    "        while i < len(left) and j < len(right):\n",
    "            if left[i] < right[j]:\n",
    "                arr[k] = left[i]\n",
    "                i += 1\n",
    "            else:\n",
    "                arr[k] = right[j]\n",
    "                j += 1\n",
    "            k += 1\n",
    "        \n",
    "        # Check for remaining elements\n",
    "        while i < len(left):\n",
    "            arr[k] = left[i]\n",
    "            i += 1\n",
    "            k += 1\n",
    "        \n",
    "        while j < len(right):\n",
    "            arr[k] = right[j]\n",
    "            j += 1\n",
    "            k += 1\n",
    "\n",
    "# Usage\n",
    "numbers = [64, 25, 12, 22, 1,22222,89,11]\n",
    "merge_sort_simple(numbers)\n",
    "print(\"Sorted:\", numbers)"
   ]
  }
 ],
 "metadata": {
  "kernelspec": {
   "display_name": "Python 3 (ipykernel)",
   "language": "python",
   "name": "python3"
  },
  "language_info": {
   "codemirror_mode": {
    "name": "ipython",
    "version": 3
   },
   "file_extension": ".py",
   "mimetype": "text/x-python",
   "name": "python",
   "nbconvert_exporter": "python",
   "pygments_lexer": "ipython3",
   "version": "3.13.3"
  }
 },
 "nbformat": 4,
 "nbformat_minor": 5
}
