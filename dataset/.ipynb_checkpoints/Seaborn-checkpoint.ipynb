{
 "cells": [
  {
   "cell_type": "code",
   "execution_count": 12,
   "id": "c1f86c41",
   "metadata": {},
   "outputs": [],
   "source": [
    "import seaborn as sns\n",
    "import pandas as pd"
   ]
  },
  {
   "cell_type": "code",
   "execution_count": 13,
   "id": "beb10777",
   "metadata": {},
   "outputs": [],
   "source": [
    "data = {\n",
    "    'name': ['Alice', 'Bob', 'Charlie', 'Diana', 'Eve', 'Frank', 'Grace', 'Henry', 'Ivy', 'Jack',\n",
    "             'Kate', 'Leo', 'Mia', 'Noah', 'Olivia', 'Paul', 'Quinn', 'Rose', 'Sam', 'Tina'],\n",
    "    'age': [25, 34, 29, 42, 31, 38, 27, 45, 23, 33,\n",
    "            28, 36, 30, 39, 26, 41, 32, 24, 37, 35],\n",
    "    'income': [45000, 78000, 52000, 95000, 61000, 88000, 49000, 105000, 42000, 72000,\n",
    "               55000, 83000, 58000, 91000, 47000, 98000, 65000, 44000, 86000, 76000],\n",
    "    'score': [85, 72, 78, 92, 81, 88, 76, 95, 70, 83,\n",
    "              79, 87, 82, 90, 74, 93, 84, 71, 89, 86],\n",
    "    'height_cm': [165, 180, 175, 168, 172, 183, 163, 185, 160, 178,\n",
    "                  167, 182, 170, 184, 162, 186, 173, 161, 181, 177],\n",
    "    'weight_kg': [58, 82, 75, 65, 68, 88, 55, 92, 52, 79,\n",
    "                  62, 85, 67, 90, 54, 94, 72, 53, 87, 77],\n",
    "    'gender': ['Female', 'Male', 'Male', 'Female', 'Female', 'Male', 'Female', 'Male', 'Female', 'Male',\n",
    "               'Female', 'Male', 'Female', 'Male', 'Female', 'Male', 'Female', 'Female', 'Male', 'Female'],\n",
    "    'education': ['Bachelor', 'Master', 'Bachelor', 'PhD', 'Bachelor', 'Master', 'Bachelor', 'PhD', 'Bachelor', 'Master',\n",
    "                  'Bachelor', 'Master', 'Bachelor', 'PhD', 'Bachelor', 'Master', 'Bachelor', 'Bachelor', 'Master', 'Bachelor'],\n",
    "    'city': ['New York', 'Los Angeles', 'Chicago', 'Houston', 'Phoenix', 'Philadelphia', 'San Antonio', 'San Diego', 'Dallas', 'San Jose',\n",
    "             'Austin', 'Jacksonville', 'Fort Worth', 'Columbus', 'Charlotte', 'San Francisco', 'Indianapolis', 'Seattle', 'Denver', 'Washington'],\n",
    "    'department': ['Marketing', 'Engineering', 'Sales', 'Research', 'HR', 'Engineering', 'Marketing', 'Research', 'Sales', 'Engineering',\n",
    "                   'HR', 'Engineering', 'Marketing', 'Research', 'Sales', 'Engineering', 'HR', 'Marketing', 'Engineering', 'Sales'],\n",
    "    'experience_years': [2, 8, 4, 12, 5, 10, 3, 15, 1, 7,\n",
    "                         4, 9, 5, 11, 2, 13, 6, 2, 10, 8],\n",
    "    'satisfaction': [4, 3, 4, 5, 4, 4, 3, 5, 2, 4,\n",
    "                     3, 4, 4, 5, 3, 5, 4, 3, 4, 4],\n",
    "    'remote_work': [True, False, True, False, True, False, True, False, True, False,\n",
    "                    True, False, True, False, True, False, True, True, False, True]\n",
    "}\n"
   ]
  },
  {
   "cell_type": "code",
   "execution_count": 14,
   "id": "2b9cd050",
   "metadata": {},
   "outputs": [],
   "source": [
    "df=pd.DataFrame(data)\n"
   ]
  },
  {
   "cell_type": "code",
   "execution_count": 17,
   "id": "052ae6d0",
   "metadata": {},
   "outputs": [
    {
     "data": {
      "text/plain": [
       "<Axes: >"
      ]
     },
     "execution_count": 17,
     "metadata": {},
     "output_type": "execute_result"
    },
    {
     "data": {
      "image/png": "[encoded data removed]",
      "text/plain": [
       "<Figure size 640x480 with 1 Axes>"
      ]
     },
     "metadata": {},
     "output_type": "display_data"
    }
   ],
   "source": [
    "df[\"age\"].hist()"
   ]
  }
 ],
 "metadata": {
  "kernelspec": {
   "display_name": "Python 3",
   "language": "python",
   "name": "python3"
  },
  "language_info": {
   "codemirror_mode": {
    "name": "ipython",
    "version": 3
   },
   "file_extension": ".py",
   "mimetype": "text/x-python",
   "name": "python",
   "nbconvert_exporter": "python",
   "pygments_lexer": "ipython3",
   "version": "3.13.3"
  }
 },
 "nbformat": 4,
 "nbformat_minor": 5
}
