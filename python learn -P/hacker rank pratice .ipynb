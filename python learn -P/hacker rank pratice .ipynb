{
 "cells": [
  {
   "cell_type": "code",
   "execution_count": null,
   "id": "896dd8a4",
   "metadata": {},
   "outputs": [],
   "source": [
    "# 6 to 20\n",
    "n=8\n",
    "if 6 <= n and 20 >= n:\n",
    "    print(\"Weird\")\n",
    "else:\n",
    "    print(\"no\")"
   ]
  }
 ],
 "metadata": {
  "language_info": {
   "name": "python"
  }
 },
 "nbformat": 4,
 "nbformat_minor": 5
}
