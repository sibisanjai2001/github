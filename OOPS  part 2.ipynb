{
 "cells": [
  {
   "cell_type": "code",
   "execution_count": 1,
   "id": "afd79f49-3e4c-4121-95be-801680413f07",
   "metadata": {},
   "outputs": [
    {
     "name": "stdout",
     "output_type": "stream",
     "text": [
      "<class 'int'>\n",
      "<class 'type'>\n",
      "True\n",
      "<class '__main__.demo'>\n",
      "<class 'type'>\n"
     ]
    }
   ],
   "source": [
    "class demo():\n",
    "    pass\n",
    "a=10\n",
    "print(type(a))  #       <class 'int'>          ////// class is type\n",
    "print(type(demo))     #<class 'type'>\n",
    "sibi=demo()     #sibi is object     demo is instance\n",
    "print(isinstance(sibi,demo))\n",
    "print(type(sibi))\n",
    "print(type(demo))"
   ]
  },
  {
   "cell_type": "code",
   "execution_count": 7,
   "id": "08af232d-657b-455a-bc81-3af27b29a8db",
   "metadata": {},
   "outputs": [
    {
     "name": "stdout",
     "output_type": "stream",
     "text": [
      "sibi s\n",
      "s\n",
      "sibi\n",
      "R\n",
      "male\n",
      "erode\n",
      "{'__module__': '__main__', 'name': 'R', 'dit': 's', '__dict__': <attribute '__dict__' of 'sibi' objects>, '__weakref__': <attribute '__weakref__' of 'sibi' objects>, '__doc__': None, 'gender': 'male'}\n"
     ]
    }
   ],
   "source": [
    "class sibi():\n",
    "    name=\"sibi\"\n",
    "    dit=\"s\"\n",
    "    print(name,dit)\n",
    "sibi()\n",
    "print(getattr(sibi,\"dit\",\"name\"))  #or\n",
    "print(sibi.name)\n",
    "\n",
    "#set attributes\n",
    "setattr(sibi,\"name\",\"R\")\n",
    "print(sibi.name)\n",
    "\n",
    "setattr(sibi,\"gender\",\"male\")\n",
    "print(sibi.gender)\n",
    "\n",
    "#dot notation\n",
    "sibi.city=\"erode\"\n",
    "print(sibi.city)\n",
    "\n",
    "#delete\n",
    "delattr(sibi,\"city\")\n",
    "print(sibi.__dict__)"
   ]
  },
  {
   "cell_type": "code",
   "execution_count": 1,
   "id": "c659eeba-389a-4a62-9094-b6d4b08fdd8d",
   "metadata": {},
   "outputs": [
    {
     "name": "stdout",
     "output_type": "stream",
     "text": [
      "{'__module__': '__main__', '__firstlineno__': 2, 's': 'sibi', '__static_attributes__': (), '__dict__': <attribute '__dict__' of 'k' objects>, '__weakref__': <attribute '__weakref__' of 'k' objects>, '__doc__': None}\n",
      "{}\n",
      "sibi\n",
      "{}\n",
      "sibi\n"
     ]
    }
   ],
   "source": [
    "#instance attributes\n",
    "class k:\n",
    "    s=\"sibi\"\n",
    "o=k()\n",
    "print(k.__dict__)\n",
    "print(o.__dict__)\n",
    "print(o.s)\n",
    "print(o.__dict__)\n",
    "o.k=\"kavin\"\n",
    "print(k.s)"
   ]
  },
  {
   "cell_type": "code",
   "execution_count": 1,
   "id": "ccfa1fe0-c853-415f-933f-7f03c10428cb",
   "metadata": {},
   "outputs": [
    {
     "name": "stdout",
     "output_type": "stream",
     "text": [
      "name  sibisanjai\n",
      "age 22\n",
      "None\n",
      "{'__module__': '__main__', '__firstlineno__': 2, 'name': 'sibisanjai', 'age': 22, 'fun': <function sibi.fun at 0x0000019B9513E840>, '__static_attributes__': (), '__dict__': <attribute '__dict__' of 'sibi' objects>, '__weakref__': <attribute '__weakref__' of 'sibi' objects>, '__doc__': None}\n"
     ]
    }
   ],
   "source": [
    "#class method\n",
    "class sibi:\n",
    "    name=\"sibisanjai\"\n",
    "    age=22\n",
    "    def fun():\n",
    "        print(\"name \",sibi.name)\n",
    "        print(\"age\",sibi.age)\n",
    "print(sibi.fun())\n",
    "print(sibi.__dict__)"
   ]
  },
  {
   "cell_type": "code",
   "execution_count": 14,
   "id": "17dcb64c-c8a0-4143-a7b3-ec40446548ee",
   "metadata": {},
   "outputs": [
    {
     "name": "stdout",
     "output_type": "stream",
     "text": [
      "name  sibisanjai\n",
      "name 22\n",
      "gender male\n"
     ]
    }
   ],
   "source": [
    "#instance method  ==  create object \n",
    "class sibi:\n",
    "    name=\"sibisanjai\"\n",
    "    age=22\n",
    "    def fun(self,gen):\n",
    "        print(\"name \",sibi.name)\n",
    "        print(\"name\",sibi.age)\n",
    "        print(\"gender\",gen)\n",
    "k=sibi()\n",
    "k.fun(\"male\")"
   ]
  },
  {
   "cell_type": "code",
   "execution_count": 45,
   "id": "40b32268-7361-4de5-b445-86166641c437",
   "metadata": {},
   "outputs": [
    {
     "name": "stdout",
     "output_type": "stream",
     "text": [
      "first\n",
      "<__main__.cl object at 0x000002D286144A40>\n",
      "<bound method cl.prrint of <__main__.cl object at 0x000002D286144A40>>\n",
      "sanjai\n"
     ]
    }
   ],
   "source": [
    "#init method in python === creating object run automatically \n",
    "class cl:\n",
    "    def __init__(self,name):\n",
    "        print(\"first\")\n",
    "        self.name=name\n",
    "    def prrint(self):\n",
    "        print(self.name)\n",
    "        \n",
    "\n",
    "a1=cl(\"sanjai\")\n",
    "print(a1)\n",
    "print(a1.prrint)\n",
    "a1.prrint()"
   ]
  },
  {
   "cell_type": "raw",
   "id": "4771f176-7e5a-4301-8586-21e4337a29ff",
   "metadata": {},
   "source": [
    "!!property decator "
   ]
  },
  {
   "cell_type": "code",
   "execution_count": 49,
   "id": "4540e127-5f42-4688-9432-ffec3f910ba1",
   "metadata": {},
   "outputs": [
    {
     "name": "stdout",
     "output_type": "stream",
     "text": [
      "sibi\n",
      "20\n",
      "('sibi', 20)\n",
      "25\n",
      "('sibi', 20)\n"
     ]
    }
   ],
   "source": [
    "class sanjai:\n",
    "    def __init__(self,name,age):\n",
    "        self.name=name\n",
    "        self.age=age\n",
    "        self.message=self.name,self.age\n",
    "a1=sanjai(\"sibi\",20)\n",
    "print(a1.name)\n",
    "print(a1.age)\n",
    "print(a1.message)\n",
    "\n",
    "a1.age=25\n",
    "print(a1.age)\n",
    "print(a1.message)\n"
   ]
  },
  {
   "cell_type": "code",
   "execution_count": 2,
   "id": "8ce08ab1-28cd-44bd-b8ed-bbcc393f08ac",
   "metadata": {},
   "outputs": [
    {
     "name": "stdout",
     "output_type": "stream",
     "text": [
      "45555\n",
      "Done\n",
      "B type\n"
     ]
    }
   ],
   "source": [
    "class lap:\n",
    "    charger=\"c type\"\n",
    "    \n",
    "    def __init__(self):\n",
    "        self.price=120\n",
    "        self.name=\"HP\"\n",
    "\n",
    "    def company(self,price):\n",
    "        self.price = price\n",
    "        \n",
    "    def pricee(self):\n",
    "        print(self.price)\n",
    "    @classmethod\n",
    "    def charger(cls):\n",
    "        cls.charger=\"B type\"\n",
    "        print(\"Done\")\n",
    "\n",
    "dell=lap()\n",
    "dell.company(45555)\n",
    "dell.pricee()\n",
    "\n",
    "lap.charger()    #if you dont want to mention lap === add decator \n",
    "print(lap.charger)\n",
    "    "
   ]
  },
  {
   "cell_type": "code",
   "execution_count": 60,
   "id": "445972d4-3cfb-419c-94d0-427122b2b6b8",
   "metadata": {},
   "outputs": [
    {
     "name": "stdout",
     "output_type": "stream",
     "text": [
      "45555\n",
      "Done\n",
      "B type\n"
     ]
    }
   ],
   "source": [
    "#class method\n",
    "class lap:\n",
    "    charger=\"c type\"\n",
    "    \n",
    "    def __init__(self):\n",
    "        self.price=120\n",
    "        self.name=\"HP\"\n",
    "\n",
    "    def company(self,price):\n",
    "        self.price = price\n",
    "        \n",
    "    def pricee(self):\n",
    "        print(self.price)\n",
    "\n",
    "    @classmethod\n",
    "    def charger(cls):\n",
    "        cls.charger=\"B type\"\n",
    "        print(\"Done\")\n",
    "\n",
    "dell=lap()\n",
    "dell.company(45555)\n",
    "dell.pricee()\n",
    "\n",
    "lap.charger()    #if you dont want to mention lap === add decator \n",
    "print(lap.charger)\n",
    "    "
   ]
  },
  {
   "cell_type": "code",
   "execution_count": 6,
   "id": "f3f0d740-0a89-42c8-b874-be91cf727bbf",
   "metadata": {},
   "outputs": [
    {
     "name": "stdout",
     "output_type": "stream",
     "text": [
      "not need to class as function\n"
     ]
    }
   ],
   "source": [
    "class sibi:\n",
    "    @property\n",
    "    def dot(self):\n",
    "        print(\"not need to class as function\")\n",
    "k_est = sibi()\n",
    "k_est.dot"
   ]
  },
  {
   "cell_type": "code",
   "execution_count": 62,
   "id": "d6abd6bf-d7e4-406a-a9b4-34316e0d69ac",
   "metadata": {},
   "outputs": [
    {
     "name": "stdout",
     "output_type": "stream",
     "text": [
      "45555\n",
      "Done\n",
      "B type\n",
      "deafult print \n"
     ]
    }
   ],
   "source": [
    "#static method\n",
    "class lap:\n",
    "    charger=\"c type\"\n",
    "    \n",
    "    def __init__(self):\n",
    "        self.price=120\n",
    "        self.name=\"HP\"\n",
    "\n",
    "    def company(self,price):\n",
    "        self.price = price\n",
    "        \n",
    "    def pricee(self):\n",
    "        print(self.price)\n",
    "\n",
    "    @classmethod\n",
    "    def charger(cls):\n",
    "        cls.charger=\"B type\"\n",
    "        print(\"Done\")\n",
    "\n",
    "    @staticmethod\n",
    "    def small():\n",
    "        print(\"deafult print \")\n",
    "\n",
    "dell=lap()\n",
    "dell.company(45555)\n",
    "dell.pricee()\n",
    "\n",
    "lap.charger()    #if you dont want to mention lap === add decator \n",
    "print(lap.charger)\n",
    "dell.small()"
   ]
  },
  {
   "cell_type": "code",
   "execution_count": 4,
   "id": "2f9c60b8-0b8b-4803-a36b-777c3dc0df5d",
   "metadata": {},
   "outputs": [
    {
     "data": {
      "text/plain": [
       "<function __main__.lap.small()>"
      ]
     },
     "execution_count": 4,
     "metadata": {},
     "output_type": "execute_result"
    }
   ],
   "source": [
    "#static method\n",
    "class lap:\n",
    "    @staticmethod\n",
    "    def small():\n",
    "        print(\"deafult print \")\n",
    "dell=lap()\n",
    "dell.small"
   ]
  },
  {
   "cell_type": "code",
   "execution_count": 2,
   "id": "15d1cbc4-77c6-43d7-9e9d-0bde510d8453",
   "metadata": {},
   "outputs": [
    {
     "name": "stdout",
     "output_type": "stream",
     "text": [
      "6\n",
      "16\n"
     ]
    }
   ],
   "source": [
    "def sibi(a,b,c=0):\n",
    "    print(a+b+c)\n",
    "sibi(1,5)\n",
    "sibi(1,5,10)"
   ]
  },
  {
   "cell_type": "raw",
   "id": "e6d2753a-6773-4e9d-a95a-2db3a8e0f25c",
   "metadata": {},
   "source": [
    "# decarator\n",
    "Decorators\n",
    "-functions are objects\n",
    "-functions can be assigned to a variable\n",
    "-functions can be defined in another function\n",
    "-function can return another function.\n",
    "\n",
    "decorators\n",
    "\n",
    ". decorator is a function that expects ANOTHER function as parameter\n",
    "\n",
    ". inside decorator we create another function \"wrapper\", which means that they let you execute code before and after the function they decorate (original\n",
    "function) without modifying the original function itself."
   ]
  },
  {
   "cell_type": "code",
   "execution_count": 2,
   "id": "1816573c-cc14-4f9d-b058-a186e693e263",
   "metadata": {},
   "outputs": [
    {
     "name": "stdout",
     "output_type": "stream",
     "text": [
      "95\n"
     ]
    }
   ],
   "source": [
    "def add(a,b):\n",
    "    return a+b\n",
    "call=add(55,40)\n",
    "print(call)"
   ]
  },
  {
   "cell_type": "code",
   "execution_count": 5,
   "id": "d54f06b4-cecd-432b-8c4a-74352e545f8d",
   "metadata": {},
   "outputs": [
    {
     "data": {
      "text/plain": [
       "68"
      ]
     },
     "execution_count": 5,
     "metadata": {},
     "output_type": "execute_result"
    }
   ],
   "source": [
    "#1. Functions are objects in Python\n",
    "def greet(name):\n",
    "    return f\"Hello {name}\"\n",
    "\n",
    "say_hello = greet   # assign function to variable\n",
    "print(say_hello(\"Sibi\"))   # 👉 Hello Sibi\n"
   ]
  },
  {
   "cell_type": "code",
   "execution_count": null,
   "id": "77d674db-1bb2-4e83-86fe-f39e90c3d691",
   "metadata": {},
   "outputs": [],
   "source": [
    "# 2. Functions inside functions\n",
    "#one function return another function\n",
    "#calling mannualy \n",
    "def outer():\n",
    "    def inner():\n",
    "        return \"I am inner\"\n",
    "    return inner   # returning a function, not calling it\n",
    "\n",
    "fn = outer()   # fn is now inner()\n",
    "print(fn())    # 👉 I am inner\n"
   ]
  },
  {
   "cell_type": "code",
   "execution_count": 8,
   "id": "56794ce7-9cfe-49d0-a67d-589476eefbc1",
   "metadata": {},
   "outputs": [
    {
     "name": "stdout",
     "output_type": "stream",
     "text": [
      "Avathar created....\n",
      "start the Game.....\n",
      "gamed ended.....\n"
     ]
    }
   ],
   "source": [
    "#3. function return another function and defined in another function\n",
    "#calling mannualy \n",
    "def funn():\n",
    "    def paper():\n",
    "        print(\"Avathar created....\")\n",
    "        gamer()\n",
    "        print(\"gamed ended.....\")\n",
    "    return paper\n",
    "\n",
    "def gamer():\n",
    "    print(\"start the Game.....\")\n",
    "\n",
    "calling=funn()\n",
    "calling()"
   ]
  },
  {
   "cell_type": "code",
   "execution_count": 6,
   "id": "dd7a478e-33f1-40c0-9183-f7b51f83cda9",
   "metadata": {},
   "outputs": [
    {
     "name": "stdout",
     "output_type": "stream",
     "text": [
      "Avathar created....\n",
      "start the Game.....\n",
      "gamed ended.....\n"
     ]
    }
   ],
   "source": [
    "#3. calling mannualy \n",
    "\n",
    "def funn(original_function):         # decarator - outer function \n",
    "    def paper():              # paper inner function\n",
    "        print(\"Avathar created....\")\n",
    "        original_function()            # calling original function \n",
    "        print(\"gamed ended.....\")\n",
    "    return paper\n",
    "\n",
    "def gamer():    #orginal function \n",
    "    print(\"start the Game.....\")\n",
    "\n",
    "calling=funn(gamer)\n",
    "calling()"
   ]
  },
  {
   "cell_type": "code",
   "execution_count": 1,
   "id": "3e347341-2c05-4e68-ba8f-98d59fced21b",
   "metadata": {},
   "outputs": [
    {
     "name": "stdout",
     "output_type": "stream",
     "text": [
      "Before function runs...\n",
      "Hello!\n",
      "After function runs...\n"
     ]
    }
   ],
   "source": [
    "#call automatically \n",
    "#Decorator Version\n",
    "\n",
    "def my_decorator(func):   # decorator takes a function\n",
    "    def wrapper():        # wrapper adds extra code\n",
    "        print(\"Before function runs...\")\n",
    "        func()            # call original function\n",
    "        print(\"After function runs...\")\n",
    "    return wrapper        # return the wrapper\n",
    "    \n",
    "@my_decorator\n",
    "def say_hello():\n",
    "    print(\"Hello!\")\n",
    "\n",
    "say_hello()\n"
   ]
  },
  {
   "cell_type": "code",
   "execution_count": 2,
   "id": "9e4b95cf-f347-4283-b921-ebec82445f84",
   "metadata": {},
   "outputs": [
    {
     "name": "stdout",
     "output_type": "stream",
     "text": [
      "Avathar created....\n",
      "start the Game.....\n",
      "gamed ended.....\n"
     ]
    }
   ],
   "source": [
    "#call automatically \n",
    "def funn(original_function):         # decarator - outer function \n",
    "    def paper():              # paper inner function\n",
    "        print(\"Avathar created....\")\n",
    "        original_function()            # calling original function \n",
    "        print(\"gamed ended.....\")\n",
    "    return paper\n",
    "@funn\n",
    "def gamer():    #orginal function \n",
    "    print(\"start the Game.....\")\n",
    "\n",
    "\n",
    "gamer()"
   ]
  },
  {
   "cell_type": "code",
   "execution_count": 8,
   "id": "ccc90c80-d396-446a-968b-d03bfacf14c1",
   "metadata": {},
   "outputs": [
    {
     "name": "stdout",
     "output_type": "stream",
     "text": [
      "--------------------getter and setter-----------------------------\n"
     ]
    }
   ],
   "source": [
    "print(\"--------------------getter and setter-----------------------------\")"
   ]
  },
  {
   "cell_type": "code",
   "execution_count": 7,
   "id": "7c2155ba-879a-4ba5-b42c-6679ad4f47cc",
   "metadata": {},
   "outputs": [
    {
     "name": "stdout",
     "output_type": "stream",
     "text": [
      "Sibi\n",
      "\n"
     ]
    }
   ],
   "source": [
    "# Without Getter & Setter (Direct Access)\n",
    "class Person:\n",
    "    def __init__(self, name):\n",
    "        self.name = name   # public attribute\n",
    "\n",
    "p = Person(\"Sibi\")\n",
    "print(p.name)     # Direct access (no control)\n",
    "p.name = \"\"       # Direct modification (dangerous, no validation!)\n",
    "print(p.name)     # Now name is empty → not safe\n"
   ]
  },
  {
   "cell_type": "code",
   "execution_count": 6,
   "id": "b1d6f831-6a39-4e6e-92d0-aaf3c0ba5308",
   "metadata": {},
   "outputs": [
    {
     "name": "stdout",
     "output_type": "stream",
     "text": [
      "Sibi\n",
      "Ravi\n",
      "Name cannot be empty!\n"
     ]
    }
   ],
   "source": [
    "# With Getter & Setter (Normal Methods, Java-style)\n",
    "class Person:\n",
    "    def __init__(self, name):\n",
    "        self._name = name   # protected (convention: single underscore)\n",
    "\n",
    "    def get_name(self):      # getter\n",
    "        return self._name\n",
    "\n",
    "    def set_name(self, value):  # setter\n",
    "        if value.strip() == \"\":\n",
    "            print(\"Name cannot be empty!\")\n",
    "        else:\n",
    "            self._name = value\n",
    "\n",
    "p = Person(\"Sibi\")\n",
    "print(p.get_name())      # Access through getter\n",
    "p.set_name(\"Ravi\")       # Change using setter\n",
    "print(p.get_name())\n",
    "p.set_name(\"\")           # Invalid → rejected"
   ]
  },
  {
   "cell_type": "code",
   "execution_count": null,
   "id": "ff3c5806-6497-46a5-a7cd-d57db416992d",
   "metadata": {},
   "outputs": [],
   "source": [
    "# Using @property (Pythonic Way)\n",
    "class Person:\n",
    "    def __init__(self, name):\n",
    "        self._name = name\n",
    "\n",
    "    @property\n",
    "    def name(self):   # getter\n",
    "        return self._name\n",
    "\n",
    "    @name.setter\n",
    "    def name(self, value):   # setter\n",
    "        if value.strip() == \"\":\n",
    "            print(\"Name cannot be empty!\")\n",
    "        else:\n",
    "            self._name = value\n",
    "\n",
    "p = Person(\"Sibi\")\n",
    "print(p.name)        # Looks like attribute access, but calls getter\n",
    "p.name = \"Ravi\"      # Looks like attribute assignment, but calls setter\n",
    "print(p.name)\n",
    "p.name = \"\"          # Invalid → rejected\n",
    "\n"
   ]
  },
  {
   "cell_type": "code",
   "execution_count": 9,
   "id": "5b132102-5f49-4fad-8b91-9bac9edac1e2",
   "metadata": {},
   "outputs": [
    {
     "name": "stdout",
     "output_type": "stream",
     "text": [
      "vengat a\n"
     ]
    }
   ],
   "source": [
    "class Person:\n",
    "    def __init__(self):\n",
    "        self.__firstname = \"vengat\"\n",
    "        self.__lastname = \"a\"\n",
    "        self.__age = None\n",
    "\n",
    "    @property\n",
    "    def age(self):\n",
    "        return self.__age\n",
    "\n",
    "    @age.setter\n",
    "    def age(self, value):\n",
    "        if value<=0:\n",
    "            print(\"age can't be negative\")\n",
    "        else:\n",
    "            self.__age = value\n",
    "\n",
    "    @property\n",
    "    def name(self):\n",
    "        if self.__name is None:\n",
    "            return \"Please initialize name\"\n",
    "        return self.__name\n",
    "\n",
    "    @name.setter\n",
    "    def name(self, value):\n",
    "        if len(value)>20:\n",
    "            print(\"Can't set name having characters more than 20\")\n",
    "        else:\n",
    "            self.__name = value\n",
    "            \n",
    "    @property\n",
    "    def FullName(self):\n",
    "        return self.__firstname + \" \" + self.__lastname\n",
    "\n",
    "# Outside the class\n",
    "person1 = Person()\n",
    "print(person1.FullName)"
   ]
  },
  {
   "cell_type": "raw",
   "id": "5a9f269f-0195-45d5-aed7-f061d9d68bff",
   "metadata": {},
   "source": [
    "\n",
    "Style\t                                         Pros ✅\t                            Cons ❌\n",
    "Without getter/setter\t                     Simple, direct\t                            No control, unsafe\n",
    "Normal methods\tp.get_name(),\t             Adds control\t                            Verbose, Java-style\n",
    "@property (Pythonic)\t                     Clean, controlled, looks natural\t        Slightly advanced concept\n",
    "\n"
   ]
  },
  {
   "cell_type": "markdown",
   "id": "19a7f0b8-700f-441f-835e-ee96df3964e2",
   "metadata": {},
   "source": [
    "print(\"----------------------decarator is over ----------------now getter and setter------------\")"
   ]
  },
  {
   "cell_type": "code",
   "execution_count": 3,
   "id": "0c4e0c2d-d37f-4edd-83a5-fc5cc504a161",
   "metadata": {},
   "outputs": [
    {
     "name": "stdout",
     "output_type": "stream",
     "text": [
      "Alice\n",
      "Bob\n"
     ]
    }
   ],
   "source": [
    "# getter and setter mannualy \n",
    "class Student:\n",
    "    def __init__(self, name):\n",
    "        self.__name = name\n",
    "\n",
    "    def get_name(self):         # getter\n",
    "        return self.__name\n",
    "\n",
    "    def set_name(self, value):  # setter\n",
    "        if value != \"\":\n",
    "            self.__name = value\n",
    "        else:\n",
    "            print(\"Invalid name!\")\n",
    "\n",
    "\n",
    "s = Student(\"Alice\")\n",
    "print(s.get_name())   # 👈 need to call method\n",
    "s.set_name(\"Bob\")\n",
    "print(s.get_name())\n",
    "\n",
    "#Must call obj.get_x() / obj.set_x(val)"
   ]
  },
  {
   "cell_type": "code",
   "execution_count": null,
   "id": "5b46755f-7d1b-4007-bf69-61ac5229145d",
   "metadata": {},
   "outputs": [],
   "source": [
    "#You make the attribute look like a normal variable, but behind the scenes getter/setter methods are still called.\n",
    "class Student:\n",
    "    def __init__(self, name):\n",
    "        self.__name = name\n",
    "\n",
    "    @property               # getter\n",
    "    def name(self):\n",
    "        return self.__name\n",
    "\n",
    "    @name.setter            # setter\n",
    "    def name(self, value):\n",
    "        if value != \"\":\n",
    "            self.__name = value\n",
    "        else:\n",
    "            print(\"Invalid name!\")\n",
    "\n",
    "s = Student(\"Alice\")\n",
    "print(s.name)    # 👈 looks like direct access, but calls getter\n",
    "s.name = \"Bob\"   # 👈 looks like assignment, but calls setter\n",
    "print(s.name)\n"
   ]
  },
  {
   "cell_type": "code",
   "execution_count": 11,
   "id": "0ebabc65-e5ed-4566-bc13-c05117f79cde",
   "metadata": {},
   "outputs": [
    {
     "name": "stdout",
     "output_type": "stream",
     "text": [
      "----------------------------\n"
     ]
    }
   ],
   "source": [
    "print(\"------------done----------------\")\n"
   ]
  },
  {
   "cell_type": "code",
   "execution_count": 22,
   "id": "eb3a783c-6281-4a66-b781-39923630fdb1",
   "metadata": {},
   "outputs": [
    {
     "name": "stdout",
     "output_type": "stream",
     "text": [
      "batman\n",
      "40\n",
      "=================================================\n",
      "40\n",
      "20\n"
     ]
    }
   ],
   "source": [
    "class Human_v2():\n",
    "    def __init__ (self,planet,name,age):\n",
    "        self.planet=planet\n",
    "        self.name=name\n",
    "        self.age=age\n",
    "        \n",
    "    def method(self):\n",
    "        print(self.name)\n",
    "        print(self.age)\n",
    "        \n",
    "\n",
    "human1=Human_v2(\"earth\",\"batman\",\"40\")\n",
    "# object instantiate - python _init\n",
    "#self ->human1\n",
    "human1.method()\n",
    "\n",
    "woman1=Human_v2(\"venus\",\"wonderwoman\",\"20\")\n",
    "# object instantiate -python _init\n",
    "#self->woman1\n",
    "print(\"=================================================\")\n",
    "print(human1.age)\n",
    "print(woman1.age)"
   ]
  },
  {
   "cell_type": "code",
   "execution_count": 23,
   "id": "dccdab28-1c2f-4f24-b776-ed2d96e3e356",
   "metadata": {},
   "outputs": [
    {
     "name": "stdout",
     "output_type": "stream",
     "text": [
      "batman\n",
      "40\n",
      "huma being\n",
      "=================================================\n",
      "40\n",
      "20\n"
     ]
    }
   ],
   "source": [
    "class Human_v2():\n",
    "    common=\"huma being\"\n",
    "    def __init__ (self,planet,name,age):\n",
    "        self.planet=planet\n",
    "        self.name=name\n",
    "        self.age=age\n",
    "        \n",
    "    def method(self):\n",
    "        print(self.name)\n",
    "        print(self.age)\n",
    "        \n",
    "\n",
    "human1=Human_v2(\"earth\",\"batman\",\"40\")\n",
    "# object instantiate - python _init\n",
    "#self ->human1\n",
    "human1.method()\n",
    "print(human1.common)\n",
    "\n",
    "woman1=Human_v2(\"venus\",\"wonderwoman\",\"20\")\n",
    "# object instantiate -python _init\n",
    "#self->woman1\n",
    "print(\"=================================================\")\n",
    "print(human1.age)\n",
    "print(woman1.age)"
   ]
  },
  {
   "cell_type": "raw",
   "id": "e0a39207-69ae-4cc6-8f6e-c9b62a5995f3",
   "metadata": {},
   "source": [
    "#inheritence"
   ]
  },
  {
   "cell_type": "code",
   "execution_count": 4,
   "id": "39252aea-73b9-435e-aa65-420fad4544b5",
   "metadata": {},
   "outputs": [
    {
     "name": "stdout",
     "output_type": "stream",
     "text": [
      "earth sibi 22 strong\n",
      "all done........\n",
      "moon sibi 22 strong\n",
      "Help on class super_huma in module __main__:\n",
      "\n",
      "class super_huma(Human_v2)\n",
      " |  super_huma(planet, name, age, power)\n",
      " |\n",
      " |  Method resolution order:\n",
      " |      super_huma\n",
      " |      Human_v2\n",
      " |      builtins.object\n",
      " |\n",
      " |  Methods defined here:\n",
      " |\n",
      " |  __init__(self, planet, name, age, power)\n",
      " |      Initialize self.  See help(type(self)) for accurate signature.\n",
      " |\n",
      " |  alll(self)\n",
      " |\n",
      " |  ----------------------------------------------------------------------\n",
      " |  Static methods defined here:\n",
      " |\n",
      " |  final()\n",
      " |\n",
      " |  ----------------------------------------------------------------------\n",
      " |  Methods inherited from Human_v2:\n",
      " |\n",
      " |  method(self)\n",
      " |\n",
      " |  ----------------------------------------------------------------------\n",
      " |  Data descriptors inherited from Human_v2:\n",
      " |\n",
      " |  __dict__\n",
      " |      dictionary for instance variables\n",
      " |\n",
      " |  __weakref__\n",
      " |      list of weak references to the object\n",
      " |\n",
      " |  ----------------------------------------------------------------------\n",
      " |  Data and other attributes inherited from Human_v2:\n",
      " |\n",
      " |  common = 'huma being'\n",
      "\n"
     ]
    }
   ],
   "source": [
    "class Human_v2():\n",
    "    common=\"huma being\"\n",
    "    def __init__ (self,planet,name,age):\n",
    "        self.planet=planet\n",
    "        self.name=name\n",
    "        self.age=age\n",
    "        \n",
    "    def method(self):\n",
    "        print(self.name)\n",
    "        print(self.age)\n",
    "        \n",
    "class super_huma(Human_v2):\n",
    "    def __init__ (self,planet,name,age,power):\n",
    "        super().__init__(planet,name,age)\n",
    "        self.power=power\n",
    "\n",
    "    def alll(self):\n",
    "        print(self.planet,self.name,self.age,self.power)\n",
    "        \n",
    "    @staticmethod\n",
    "    def final():\n",
    "        print(\"all done........\")\n",
    "\n",
    "a=super_huma(\"earth\",\"sibi\",22,\"strong\")\n",
    "a.alll()\n",
    "a.planet=\"moon\"\n",
    "a.final()\n",
    "a.alll()\n",
    "a.final\n",
    "help(super_huma)\n"
   ]
  }
 ],
 "metadata": {
  "kernelspec": {
   "display_name": "Python 3",
   "language": "python",
   "name": "python3"
  },
  "language_info": {
   "codemirror_mode": {
    "name": "ipython",
    "version": 3
   },
   "file_extension": ".py",
   "mimetype": "text/x-python",
   "name": "python",
   "nbconvert_exporter": "python",
   "pygments_lexer": "ipython3",
   "version": "3.13.3"
  }
 },
 "nbformat": 4,
 "nbformat_minor": 5
}
