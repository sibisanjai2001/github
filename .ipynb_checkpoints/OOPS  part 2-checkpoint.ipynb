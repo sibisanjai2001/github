{
 "cells": [
  {
   "cell_type": "code",
   "execution_count": 5,
   "id": "afd79f49-3e4c-4121-95be-801680413f07",
   "metadata": {},
   "outputs": [
    {
     "name": "stdout",
     "output_type": "stream",
     "text": [
      "<class 'int'>\n",
      "<class 'type'>\n",
      "True\n",
      "<class '__main__.demo'>\n"
     ]
    }
   ],
   "source": [
    "class demo():\n",
    "    pass\n",
    "a=10\n",
    "print(type(a))  #       <class 'int'>          ////// class is type\n",
    "print(type(demo))     #<class 'type'>\n",
    "sibi=demo()     #sibi is object     demo is instance\n",
    "print(isinstance(sibi,demo))\n",
    "print(type(sibi))"
   ]
  },
  {
   "cell_type": "code",
   "execution_count": 7,
   "id": "08af232d-657b-455a-bc81-3af27b29a8db",
   "metadata": {},
   "outputs": [
    {
     "name": "stdout",
     "output_type": "stream",
     "text": [
      "sibi s\n",
      "s\n",
      "sibi\n",
      "R\n",
      "male\n",
      "erode\n",
      "{'__module__': '__main__', 'name': 'R', 'dit': 's', '__dict__': <attribute '__dict__' of 'sibi' objects>, '__weakref__': <attribute '__weakref__' of 'sibi' objects>, '__doc__': None, 'gender': 'male'}\n"
     ]
    }
   ],
   "source": [
    "class sibi():\n",
    "    name=\"sibi\"\n",
    "    dit=\"s\"\n",
    "    print(name,dit)\n",
    "sibi()\n",
    "print(getattr(sibi,\"dit\",\"name\"))  #or\n",
    "print(sibi.name)\n",
    "\n",
    "#set attributes\n",
    "setattr(sibi,\"name\",\"R\")\n",
    "print(sibi.name)\n",
    "\n",
    "setattr(sibi,\"gender\",\"male\")\n",
    "print(sibi.gender)\n",
    "\n",
    "#dot notation\n",
    "sibi.city=\"erode\"\n",
    "print(sibi.city)\n",
    "\n",
    "#delete\n",
    "delattr(sibi,\"city\")\n",
    "print(sibi.__dict__)"
   ]
  },
  {
   "cell_type": "code",
   "execution_count": 7,
   "id": "c659eeba-389a-4a62-9094-b6d4b08fdd8d",
   "metadata": {},
   "outputs": [
    {
     "name": "stdout",
     "output_type": "stream",
     "text": [
      "{'__module__': '__main__', 's': 'sibi', '__dict__': <attribute '__dict__' of 'k' objects>, '__weakref__': <attribute '__weakref__' of 'k' objects>, '__doc__': None}\n",
      "{}\n",
      "sibi\n",
      "{}\n",
      "sibi\n"
     ]
    }
   ],
   "source": [
    "#instance attributes\n",
    "class k:\n",
    "    s=\"sibi\"\n",
    "o=k()\n",
    "print(k.__dict__)\n",
    "print(o.__dict__)\n",
    "print(o.s)\n",
    "print(o.__dict__)\n",
    "o.k=\"kavin\"\n",
    "print(k.s)"
   ]
  },
  {
   "cell_type": "code",
   "execution_count": 10,
   "id": "ccfa1fe0-c853-415f-933f-7f03c10428cb",
   "metadata": {},
   "outputs": [
    {
     "name": "stdout",
     "output_type": "stream",
     "text": [
      "name  sibisanjai\n",
      "name 22\n",
      "None\n",
      "{'__module__': '__main__', 'name': 'sibisanjai', 'age': 22, 'fun': <function sibi.fun at 0x000002D2861CA5C0>, '__dict__': <attribute '__dict__' of 'sibi' objects>, '__weakref__': <attribute '__weakref__' of 'sibi' objects>, '__doc__': None}\n"
     ]
    }
   ],
   "source": [
    "#class method\n",
    "class sibi:\n",
    "    name=\"sibisanjai\"\n",
    "    age=22\n",
    "    def fun():\n",
    "        print(\"name \",sibi.name)\n",
    "        print(\"name\",sibi.age)\n",
    "print(sibi.fun())\n",
    "print(sibi.__dict__)"
   ]
  },
  {
   "cell_type": "code",
   "execution_count": 14,
   "id": "17dcb64c-c8a0-4143-a7b3-ec40446548ee",
   "metadata": {},
   "outputs": [
    {
     "name": "stdout",
     "output_type": "stream",
     "text": [
      "name  sibisanjai\n",
      "name 22\n",
      "gender male\n"
     ]
    }
   ],
   "source": [
    "#instance method  ==  create object \n",
    "class sibi:\n",
    "    name=\"sibisanjai\"\n",
    "    age=22\n",
    "    def fun(self,gen):\n",
    "        print(\"name \",sibi.name)\n",
    "        print(\"name\",sibi.age)\n",
    "        print(\"gender\",gen)\n",
    "k=sibi()\n",
    "k.fun(\"male\")"
   ]
  },
  {
   "cell_type": "code",
   "execution_count": 45,
   "id": "40b32268-7361-4de5-b445-86166641c437",
   "metadata": {},
   "outputs": [
    {
     "name": "stdout",
     "output_type": "stream",
     "text": [
      "first\n",
      "<__main__.cl object at 0x000002D286144A40>\n",
      "<bound method cl.prrint of <__main__.cl object at 0x000002D286144A40>>\n",
      "sanjai\n"
     ]
    }
   ],
   "source": [
    "#init method in python === creating object run automatically \n",
    "\n",
    "class cl:\n",
    "    def __init__(self,name):\n",
    "        print(\"first\")\n",
    "        self.name=name\n",
    "    def prrint(self):\n",
    "        print(self.name)\n",
    "        \n",
    "\n",
    "a1=cl(\"sanjai\")\n",
    "print(a1)\n",
    "print(a1.prrint)\n",
    "a1.prrint()"
   ]
  },
  {
   "cell_type": "raw",
   "id": "4771f176-7e5a-4301-8586-21e4337a29ff",
   "metadata": {},
   "source": [
    "!!property decator "
   ]
  },
  {
   "cell_type": "code",
   "execution_count": 49,
   "id": "4540e127-5f42-4688-9432-ffec3f910ba1",
   "metadata": {},
   "outputs": [
    {
     "name": "stdout",
     "output_type": "stream",
     "text": [
      "sibi\n",
      "20\n",
      "('sibi', 20)\n",
      "25\n",
      "('sibi', 20)\n"
     ]
    }
   ],
   "source": [
    "class sanjai:\n",
    "    def __init__(self,name,age):\n",
    "        self.name=name\n",
    "        self.age=age\n",
    "        self.message=self.name,self.age\n",
    "a1=sanjai(\"sibi\",20)\n",
    "print(a1.name)\n",
    "print(a1.age)\n",
    "print(a1.message)\n",
    "\n",
    "a1.age=25\n",
    "print(a1.age)\n",
    "print(a1.message)\n"
   ]
  },
  {
   "cell_type": "code",
   "execution_count": 58,
   "id": "8ce08ab1-28cd-44bd-b8ed-bbcc393f08ac",
   "metadata": {},
   "outputs": [
    {
     "name": "stdout",
     "output_type": "stream",
     "text": [
      "45555\n",
      "Done\n",
      "B type\n"
     ]
    }
   ],
   "source": [
    "class lap:\n",
    "    charger=\"c type\"\n",
    "    \n",
    "    def __init__(self):\n",
    "        self.price=120\n",
    "        self.name=\"HP\"\n",
    "\n",
    "    def company(self,price):\n",
    "        self.price = price\n",
    "        \n",
    "    def pricee(self):\n",
    "        print(self.price)\n",
    "\n",
    "    def charger(cls):\n",
    "        cls.charger=\"B type\"\n",
    "        print(\"Done\")\n",
    "\n",
    "dell=lap()\n",
    "dell.company(45555)\n",
    "dell.pricee()\n",
    "\n",
    "lap.charger(lap)    #if you dont want to mention lap === add decator \n",
    "print(lap.charger)\n",
    "    "
   ]
  },
  {
   "cell_type": "code",
   "execution_count": 54,
   "id": "445972d4-3cfb-419c-94d0-427122b2b6b8",
   "metadata": {},
   "outputs": [
    {
     "name": "stdout",
     "output_type": "stream",
     "text": [
      "45555\n"
     ]
    }
   ],
   "source": []
  }
 ],
 "metadata": {
  "kernelspec": {
   "display_name": "Python 3 (ipykernel)",
   "language": "python",
   "name": "python3"
  },
  "language_info": {
   "codemirror_mode": {
    "name": "ipython",
    "version": 3
   },
   "file_extension": ".py",
   "mimetype": "text/x-python",
   "name": "python",
   "nbconvert_exporter": "python",
   "pygments_lexer": "ipython3",
   "version": "3.12.6"
  }
 },
 "nbformat": 4,
 "nbformat_minor": 5
}
