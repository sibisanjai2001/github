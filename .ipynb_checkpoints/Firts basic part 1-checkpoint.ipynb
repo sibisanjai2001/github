{
 "cells": [
  {
   "cell_type": "code",
   "execution_count": 4,
   "id": "9e7c7540-ce1a-4f2b-a7d7-12bf14c4257f",
   "metadata": {},
   "outputs": [
    {
     "name": "stdout",
     "output_type": "stream",
     "text": [
      "hello\n",
      "15\n",
      "<class 'int'>\n",
      "140713661106744\n"
     ]
    }
   ],
   "source": [
    "print(\"hello\")\n",
    "a=5\n",
    "b=10\n",
    "print(a+b)\n",
    "print(type(a))\n",
    "print(id(a))"
   ]
  },
  {
   "cell_type": "code",
   "execution_count": 6,
   "id": "bad68ca1-208a-4922-a132-c7788183446d",
   "metadata": {},
   "outputs": [
    {
     "name": "stdout",
     "output_type": "stream",
     "text": [
      "['False', 'None', 'True', 'and', 'as', 'assert', 'async', 'await', 'break', 'class', 'continue', 'def', 'del', 'elif', 'else', 'except', 'finally', 'for', 'from', 'global', 'if', 'import', 'in', 'is', 'lambda', 'nonlocal', 'not', 'or', 'pass', 'raise', 'return', 'try', 'while', 'with', 'yield']\n",
      " \n",
      "\n",
      "What google pixel would be the best to get and what does it mean for a Google Pixel selling as unlocked? Based on what I have seen, I think the 7 would be the best all around since I've seen that 8 on isn't seen as favorably due to the AI implemented in it.\n",
      "\n"
     ]
    }
   ],
   "source": [
    "import keyword\n",
    "print(keyword.kwlist)\n",
    "k=\"\"\" \n",
    "\n",
    "What google pixel would be the best to get and what does it mean for a Google Pixel selling as unlocked? Based on what I have seen, I think the 7 would be the best all around since I've seen that 8 on isn't seen as favorably due to the AI implemented in it.\n",
    "\"\"\"\n",
    "print(k)"
   ]
  },
  {
   "cell_type": "code",
   "execution_count": 1,
   "id": "a3b08356-386c-4ea7-904a-afe2bac454e5",
   "metadata": {},
   "outputs": [
    {
     "name": "stdout",
     "output_type": "stream",
     "text": [
      "SIBISANJAI\n",
      "sibisanjai\n",
      "Sibisanjai\n",
      "Sibisanjai\n",
      "2\n",
      "True\n",
      "1\n",
      "3\n",
      "s22b22sanja22\n",
      "False\n",
      "True\n",
      "True\n",
      "True\n",
      "sibi\n",
      "sanjai\n",
      "['s', 'b', 'sanja', '']\n",
      "10\n"
     ]
    }
   ],
   "source": [
    "s=\"sibisanjai\"\n",
    "print(s.upper())\n",
    "print(s.lower())\n",
    "print(s.capitalize())\n",
    "print(s.title())\n",
    "print(s.count(\"s\"))\n",
    "print(s.endswith(\"i\"))\n",
    "print(s.find(\"i\"))\n",
    "print(s.find(\"i\",3))\n",
    "print(s.replace(\"i\",\"22\"))\n",
    "print(s.isupper())\n",
    "print(s.islower())\n",
    "print(s.isalnum())\n",
    "print(s.isalpha())\n",
    "print(\"sibi\\nsanjai\")\n",
    "print(s.split(\"i\"))\n",
    "print(len(s))"
   ]
  },
  {
   "cell_type": "code",
   "execution_count": 36,
   "id": "7b8c648f-faeb-438e-ab54-610312d616b8",
   "metadata": {},
   "outputs": [
    {
     "name": "stdout",
     "output_type": "stream",
     "text": [
      "this is fi\n",
      "this is fi\n",
      "st and last learning\n",
      "t l\n",
      "gninrael tsal dna tsif si siht\n"
     ]
    }
   ],
   "source": [
    "#string manipulation \n",
    "s=\"this is fist and last learning\"\n",
    "print(s[0:10])\n",
    "print(s[:10])\n",
    "print(s[10:])\n",
    "print(s[-10:-7])\n",
    "print(s[::-1])"
   ]
  },
  {
   "cell_type": "code",
   "execution_count": 42,
   "id": "9c30000b-f306-4fc6-b75f-9a55be308e00",
   "metadata": {},
   "outputs": [
    {
     "name": "stdout",
     "output_type": "stream",
     "text": [
      "17\n",
      "-1\n",
      "72\n",
      "0.8888888888888888\n",
      "0\n",
      "8\n"
     ]
    }
   ],
   "source": [
    "#arthmetic operation\n",
    "a=8\n",
    "b=9\n",
    "print(a+b)\n",
    "print(a-b)\n",
    "print(a*b)\n",
    "print(a/b)\n",
    "print(a//b) #remove after decimal\n",
    "print(a%b) #remainder"
   ]
  },
  {
   "cell_type": "code",
   "execution_count": 5,
   "id": "d91572c1-eb22-4809-9c90-a67e618947c3",
   "metadata": {},
   "outputs": [
    {
     "name": "stdout",
     "output_type": "stream",
     "text": [
      "False\n",
      "True\n",
      "False\n",
      "True\n",
      "True\n",
      "False\n",
      "True\n"
     ]
    }
   ],
   "source": [
    "#assigment operator\n",
    "\n",
    "\n",
    "\n",
    "#assignment operator\n",
    "a=8\n",
    "b=9\n",
    "print(a==b)\n",
    "print(a!=b)\n",
    "print(a>b)\n",
    "print(a<=b)\n",
    "print(a==b or a!=b)\n",
    "print(a==b and  a!=b)\n",
    "print(not(a==b and  a!=b))"
   ]
  },
  {
   "cell_type": "code",
   "execution_count": 2,
   "id": "e6b53024-ba05-4eb4-afb1-690c8c2bec16",
   "metadata": {},
   "outputs": [
    {
     "name": "stdout",
     "output_type": "stream",
     "text": [
      "4\n",
      "4557\n",
      "4553\n",
      "15546414740169761475380500406956690154631853682988501329964690714964663957243051434169785859086146315078518225881515549502053186702803224462757272804336442547102125559878635638377132380276262757144948287092872765081690672114982506533681173970005647675604778800863408429763610882464178723025401847323526194225028862986847757123497861465166736349710820808100611684385177714600972250987961495175745543765837997026007515606608195851936785667324333208798678010330486951672646900655065272643632812639801157490192160828215352098106952243509367114879971840837726507778008273140610909631594919611688401295018059907679526543092269369043555175776981434366286662658900001846217007411970342610086193321486926704953054893373502283293707099262696347626097629747618735313410600290053407159970421263327156997593022557742713629475748984756475235128486445815863232617015773434582578265094543107232309349904047440332314655099233858688057514649053993849953415744818101486701309671768769173965423718925448502283934913103250632663624553618833013901288883265494204357541140623111289303565447557537584739307684102277384044455273749860860802423558033041107400250939156914432641602620637476861310671753194745083898418376226731942349888622854149063089558904178293221799381249017193230249432255022573384947287062308264527249583014607220711260212126011754126086584926532534695040443504406712794407239680\n"
     ]
    }
   ],
   "source": [
    "#bit wise operator\n",
    "a=5\n",
    "b=4556\n",
    "print(a&b)\n",
    "print(a|b)  #or\n",
    "print(a^b)  #xor\n",
    "print(a<<b)  #zero fill left shift"
   ]
  },
  {
   "cell_type": "code",
   "execution_count": 12,
   "id": "888be68c-e3db-4347-83bb-44feafd0d92a",
   "metadata": {},
   "outputs": [
    {
     "name": "stdout",
     "output_type": "stream",
     "text": [
      "no\n"
     ]
    }
   ],
   "source": [
    "if a==b:\n",
    "    print(\"yes:\")\n",
    "else:\n",
    "    print(\"no\")\n",
    "    "
   ]
  },
  {
   "cell_type": "code",
   "execution_count": 3,
   "id": "d6de8ae1-f281-4553-b4d2-5bd319b0e730",
   "metadata": {},
   "outputs": [
    {
     "name": "stdout",
     "output_type": "stream",
     "text": [
      "no\n"
     ]
    }
   ],
   "source": [
    "a=111\n",
    "b=222\n",
    "if a==b:\n",
    "    print(\"yes:\")\n",
    "elif a==10:\n",
    "    print(\"a=10\")\n",
    "elif a==5:\n",
    "    print(\"a=10\")\n",
    "else:\n",
    "    print(\"no\")\n",
    "    "
   ]
  },
  {
   "cell_type": "code",
   "execution_count": 16,
   "id": "d3b2c12e-2e81-442b-8982-f6cd8bc18a59",
   "metadata": {},
   "outputs": [
    {
     "name": "stdout",
     "output_type": "stream",
     "text": [
      "12\n",
      "13\n",
      "14\n",
      "15\n",
      "16\n",
      "17\n",
      "18\n",
      "19\n",
      "20\n",
      "21\n",
      "22\n",
      "23\n",
      "24\n",
      "25\n",
      "26\n",
      "27\n",
      "28\n",
      "29\n",
      "30\n",
      "31\n",
      "32\n",
      "33\n",
      "34\n",
      "35\n",
      "36\n",
      "37\n",
      "38\n",
      "39\n",
      "40\n",
      "41\n",
      "42\n",
      "43\n",
      "44\n",
      "45\n",
      "46\n",
      "47\n",
      "48\n",
      "49\n"
     ]
    }
   ],
   "source": [
    "a=12\n",
    "while a<50:\n",
    "    print(a)\n",
    "    a=a+1"
   ]
  },
  {
   "cell_type": "code",
   "execution_count": 18,
   "id": "a7f285e5-9ff3-4c4e-b139-0b15b8e04560",
   "metadata": {},
   "outputs": [
    {
     "name": "stdout",
     "output_type": "stream",
     "text": [
      "0\n",
      "1\n",
      "2\n",
      "3\n",
      "4\n",
      "5\n"
     ]
    }
   ],
   "source": [
    "for i in range(5+1):\n",
    "    print(i)"
   ]
  },
  {
   "cell_type": "code",
   "execution_count": 7,
   "id": "e629284e-1c7f-45f9-8a1f-20b6281a9d7d",
   "metadata": {},
   "outputs": [
    {
     "name": "stdout",
     "output_type": "stream",
     "text": [
      "<class 'list'>\n",
      "[4, 5, 98, 52, 789, 98]\n",
      "<class 'tuple'>\n",
      "<class 'int'>\n",
      "(44, 'sibi', 4.5, 121, 456, 121)\n",
      "{45.63, 45, 'sibi'}\n"
     ]
    }
   ],
   "source": [
    "#list .\n",
    "a=[4,5,98,52,789,98]\n",
    "print(type(a))\n",
    "print(a)\n",
    "\n",
    "#tuple  immutable ()\n",
    "a=(44,\"sibi\",4.5,121,456,121)\n",
    "print(type(a))\n",
    "print(type(a[4]))\n",
    "print(a)\n",
    "\n",
    "#set  no order and suffled no duplicate \n",
    "b={45,45.63,\"sibi\",45,45}\n",
    "print(b)\n"
   ]
  },
  {
   "cell_type": "code",
   "execution_count": 25,
   "id": "d7aa9bcb-252b-4a63-8b34-4652bc3e7efa",
   "metadata": {},
   "outputs": [
    {
     "name": "stdout",
     "output_type": "stream",
     "text": [
      "sibi sanjai\n",
      "{'name': 'sibi sanjai', 'state': 'tamil nadu', 'mobile': 9842749498}\n",
      "{'name': 'sibi sanjai', 'state': 'tamil nadu', 'mobile': 9842749498}\n",
      "{'name': 'sibi sanjai', 'state': 'tamil nadu', 'mobile': 9842749498}\n",
      "name\n",
      "state\n",
      "mobile\n",
      "sibi sanjai\n",
      "tamil nadu\n",
      "9842749498\n",
      "('name', 'sibi sanjai')\n",
      "('state', 'tamil nadu')\n",
      "('mobile', 9842749498)\n",
      "name sibi sanjai\n",
      "state tamil nadu\n",
      "mobile 9842749498\n"
     ]
    }
   ],
   "source": [
    "#dictionary \n",
    "sibi={\n",
    "    \"name\": \"sibi sanjai\",\n",
    "    \"state\": \"tamil nadu\",\n",
    "    \"mobile\": 9842749498,\n",
    "}\n",
    "\n",
    "print(sibi[\"name\"])\n",
    "\n",
    "for x in sibi:\n",
    "    print(sibi)\n",
    "    \n",
    "for x in sibi.keys():\n",
    "    print(x)\n",
    "for x in sibi.values():\n",
    "    print(x)\n",
    "    \n",
    "for x in sibi.items():\n",
    "    print(x)\n",
    "for x,v in sibi.items():\n",
    "    print(x,v)"
   ]
  },
  {
   "cell_type": "code",
   "execution_count": 30,
   "id": "a88518dd-8b8f-4dcd-a5eb-b3b2be20a5b3",
   "metadata": {},
   "outputs": [
    {
     "name": "stdout",
     "output_type": "stream",
     "text": [
      "140716754603832\n",
      "False\n",
      "True\n",
      "True\n"
     ]
    }
   ],
   "source": [
    "a=45\n",
    "b=788\n",
    "x=(45,12,456,89)\n",
    "print(id(a))\n",
    "print( a is b)\n",
    "print( a is not b)\n",
    "print(45 in x)"
   ]
  },
  {
   "cell_type": "code",
   "execution_count": 32,
   "id": "60027496-f8bf-4f22-808d-3571f1879786",
   "metadata": {},
   "outputs": [
    {
     "name": "stdout",
     "output_type": "stream",
     "text": [
      "heloO\n",
      "heloO\n"
     ]
    }
   ],
   "source": [
    "# function \n",
    "def sibi():\n",
    "    print(\"heloO\")\n",
    "sibi()\n",
    "sibi()"
   ]
  },
  {
   "cell_type": "code",
   "execution_count": 35,
   "id": "4803e538-0bc6-4b16-9120-79fcaf32109c",
   "metadata": {},
   "outputs": [
    {
     "name": "stdout",
     "output_type": "stream",
     "text": [
      "enter the number 45\n",
      "enter the number 45\n"
     ]
    },
    {
     "name": "stdout",
     "output_type": "stream",
     "text": [
      "90\n"
     ]
    }
   ],
   "source": [
    "def sibis():\n",
    "    a=int(input(\"enter the number\"))      # no return without argument \n",
    "    b=int(input(\"enter the number\"))\n",
    "    print(a+b)\n",
    "sibis()"
   ]
  },
  {
   "cell_type": "code",
   "execution_count": 4,
   "id": "61503134-10f2-4e0c-ae13-d0ce21c03a17",
   "metadata": {},
   "outputs": [
    {
     "name": "stdout",
     "output_type": "stream",
     "text": [
      "enter the number 22\n",
      "enter the number 22\n"
     ]
    },
    {
     "data": {
      "text/plain": [
       "44"
      ]
     },
     "execution_count": 4,
     "metadata": {},
     "output_type": "execute_result"
    }
   ],
   "source": [
    "def sibis():\n",
    "    a=int(input(\"enter the number\"))      # no return without argument \n",
    "    b=int(input(\"enter the number\"))\n",
    "    return a+b\n",
    "sibis()"
   ]
  },
  {
   "cell_type": "code",
   "execution_count": 41,
   "id": "016114da-20d2-4b66-b232-b30c285e3b23",
   "metadata": {},
   "outputs": [
    {
     "name": "stdout",
     "output_type": "stream",
     "text": [
      "sibi\n",
      "45\n",
      "12.3\n"
     ]
    }
   ],
   "source": [
    "## arbitary argument \n",
    "def large(*s):\n",
    "    for i in s:\n",
    "        print(i)\n",
    "s=(\"sibi\",45,12.3)\n",
    "large(*s)\n"
   ]
  },
  {
   "cell_type": "code",
   "execution_count": 45,
   "id": "213813f6-6e25-4a93-b057-a3461d5b5bab",
   "metadata": {},
   "outputs": [
    {
     "name": "stdout",
     "output_type": "stream",
     "text": [
      "sibi 45\n",
      "{'name': 'sibi', 'age': 25, 't': 'TN'}\n",
      "sibi 45 erode\n"
     ]
    }
   ],
   "source": [
    "def sum(name,age):\n",
    "    print(name,age)\n",
    "sum(\"sibi\",45)\n",
    "\n",
    "def sums(**n):\n",
    "    print(n)\n",
    "sums(name=\"sibi\",age=25,t=\"TN\")\n",
    "\n",
    "\n",
    "def sum(name,age,city=\"erode\"):\n",
    "    print(name,age,city)\n",
    "sum(\"sibi\",45)\n"
   ]
  },
  {
   "cell_type": "code",
   "execution_count": 2,
   "id": "0fdc9e82-6332-40ab-b17d-3df1bb7bf060",
   "metadata": {},
   "outputs": [
    {
     "name": "stdout",
     "output_type": "stream",
     "text": [
      "507\n"
     ]
    }
   ],
   "source": [
    "def sumk(*args):\n",
    "    return sum(args)\n",
    "\n",
    "s = sumk(45, 12, 450)\n",
    "print(s)\n"
   ]
  },
  {
   "cell_type": "code",
   "execution_count": 5,
   "id": "3cff424d-65f8-4be4-b596-eb2e7ebb9ffa",
   "metadata": {},
   "outputs": [
    {
     "name": "stdout",
     "output_type": "stream",
     "text": [
      "10888869450418352160768000000\n"
     ]
    }
   ],
   "source": [
    "#recursive function \n",
    "def calll(x):\n",
    "    if x==1:\n",
    "        return 1\n",
    "    else:\n",
    "        return(x* calll (x-1))\n",
    "print(calll(27))"
   ]
  },
  {
   "cell_type": "code",
   "execution_count": 7,
   "id": "69ebcb80-406c-4ab1-a14d-012d2ea61939",
   "metadata": {},
   "outputs": [
    {
     "name": "stdout",
     "output_type": "stream",
     "text": [
      "('sibi', 'kavin', 'naveen')\n",
      "sibi kavin naveen\n",
      "sibi kavin naveen none\n"
     ]
    }
   ],
   "source": [
    "def s(*name):\n",
    "    print(name)\n",
    "s(\"sibi\",\"kavin\",\"naveen\")\n",
    "\n",
    "def s(name,name2,name3):\n",
    "    print(name,name2,name3)\n",
    "s(\"sibi\",\"kavin\",\"naveen\")\n",
    "\n",
    "def s(a,b,c,d=\"none\"):\n",
    "    print(a,b,c,d)\n",
    "s(\"sibi\",\"kavin\",\"naveen\")"
   ]
  },
  {
   "cell_type": "code",
   "execution_count": 9,
   "id": "b5307e25-4f8c-464e-aa40-c4bb4e9a0a4f",
   "metadata": {},
   "outputs": [
    {
     "name": "stdout",
     "output_type": "stream",
     "text": [
      "{'name': 'sibi', 'age': 25, 'gender': 'male'}\n"
     ]
    }
   ],
   "source": [
    "def ss(**data):\n",
    "    print(data)\n",
    "ss(name=\"sibi\",age=25,gender=\"male\")\n",
    "    "
   ]
  },
  {
   "cell_type": "code",
   "execution_count": 10,
   "id": "15a9c5c2-b6b6-4b16-a0e4-9eaf575257b1",
   "metadata": {},
   "outputs": [
    {
     "name": "stdout",
     "output_type": "stream",
     "text": [
      "2024-10-05\n"
     ]
    }
   ],
   "source": [
    "import datetime as dd\n",
    "s=dd.date.today()\n",
    "print(s)"
   ]
  },
  {
   "cell_type": "code",
   "execution_count": 14,
   "id": "2a396d0f-125d-4791-87e2-8dedcfb13cb2",
   "metadata": {},
   "outputs": [
    {
     "name": "stdout",
     "output_type": "stream",
     "text": [
      "6.708203932499369\n",
      "12696403353658275925965100847566516959580321051449436762275840000000000000\n",
      "1073741824.0\n",
      "3.141592653589793\n"
     ]
    }
   ],
   "source": [
    "import math as mm\n",
    "print(mm.sqrt(45))\n",
    "print(mm.factorial(55))\n",
    "print(mm.pow(8,10))\n",
    "print(mm.pi)"
   ]
  },
  {
   "cell_type": "code",
   "execution_count": 25,
   "id": "bba99d8b-ca62-43c2-8213-470f7e11852d",
   "metadata": {},
   "outputs": [
    {
     "name": "stdout",
     "output_type": "stream",
     "text": [
      "division by zero\n",
      "done\n"
     ]
    }
   ],
   "source": [
    "#try block\n",
    "#if try works and else part also works \n",
    "#whatever finally will works\n",
    "try:\n",
    "    a=10/0\n",
    "    print(a)\n",
    "except Exception as e:\n",
    "    print(e)\n",
    "else:\n",
    "    print(\"worng input\")\n",
    "finally:\n",
    "    print(\"done\")"
   ]
  },
  {
   "cell_type": "code",
   "execution_count": 28,
   "id": "4ed78359-604f-4bd7-b020-bcd3302221d2",
   "metadata": {},
   "outputs": [
    {
     "name": "stdout",
     "output_type": "stream",
     "text": [
      "['ArithmeticError', 'AssertionError', 'AttributeError', 'BaseException', 'BaseExceptionGroup', 'BlockingIOError', 'BrokenPipeError', 'BufferError', 'BytesWarning', 'ChildProcessError', 'ConnectionAbortedError', 'ConnectionError', 'ConnectionRefusedError', 'ConnectionResetError', 'DeprecationWarning', 'EOFError', 'Ellipsis', 'EncodingWarning', 'EnvironmentError', 'Exception', 'ExceptionGroup', 'False', 'FileExistsError', 'FileNotFoundError', 'FloatingPointError', 'FutureWarning', 'GeneratorExit', 'IOError', 'ImportError', 'ImportWarning', 'IndentationError', 'IndexError', 'InterruptedError', 'IsADirectoryError', 'KeyError', 'KeyboardInterrupt', 'LookupError', 'MemoryError', 'ModuleNotFoundError', 'NameError', 'None', 'NotADirectoryError', 'NotImplemented', 'NotImplementedError', 'OSError', 'OverflowError', 'PendingDeprecationWarning', 'PermissionError', 'ProcessLookupError', 'RecursionError', 'ReferenceError', 'ResourceWarning', 'RuntimeError', 'RuntimeWarning', 'StopAsyncIteration', 'StopIteration', 'SyntaxError', 'SyntaxWarning', 'SystemError', 'SystemExit', 'TabError', 'TimeoutError', 'True', 'TypeError', 'UnboundLocalError', 'UnicodeDecodeError', 'UnicodeEncodeError', 'UnicodeError', 'UnicodeTranslateError', 'UnicodeWarning', 'UserWarning', 'ValueError', 'Warning', 'WindowsError', 'ZeroDivisionError', '__IPYTHON__', '__build_class__', '__debug__', '__doc__', '__import__', '__loader__', '__name__', '__package__', '__spec__', 'abs', 'aiter', 'all', 'anext', 'any', 'ascii', 'bin', 'bool', 'breakpoint', 'bytearray', 'bytes', 'callable', 'chr', 'classmethod', 'compile', 'complex', 'copyright', 'credits', 'delattr', 'dict', 'dir', 'display', 'divmod', 'enumerate', 'eval', 'exec', 'execfile', 'filter', 'float', 'format', 'frozenset', 'get_ipython', 'getattr', 'globals', 'hasattr', 'hash', 'help', 'hex', 'id', 'input', 'int', 'isinstance', 'issubclass', 'iter', 'len', 'license', 'list', 'locals', 'map', 'max', 'memoryview', 'min', 'next', 'object', 'oct', 'open', 'ord', 'pow', 'print', 'property', 'range', 'repr', 'reversed', 'round', 'runfile', 'set', 'setattr', 'slice', 'sorted', 'staticmethod', 'str', 'sum', 'super', 'tuple', 'type', 'vars', 'zip']\n"
     ]
    }
   ],
   "source": [
    "print(dir(locals()['__builtins__']))  #types of expection "
   ]
  },
  {
   "cell_type": "raw",
   "id": "1d480522-8e72-4c4f-a4bc-d239179569c2",
   "metadata": {},
   "source": [
    "## all done "
   ]
  },
  {
   "cell_type": "code",
   "execution_count": 4,
   "id": "392469ea-28be-472a-8ab5-49e303df5534",
   "metadata": {},
   "outputs": [
    {
     "name": "stdout",
     "output_type": "stream",
     "text": [
      "1\n"
     ]
    },
    {
     "name": "stdout",
     "output_type": "stream",
     "text": [
      "Enter the dividend:  51\n",
      "Enter the divisor:  898\n"
     ]
    },
    {
     "name": "stdout",
     "output_type": "stream",
     "text": [
      "Quotient is: 0\n",
      "Remainder is: 51\n"
     ]
    }
   ],
   "source": [
    "k=2\n",
    "k=k//2\n",
    "print(k)\n",
    "\n",
    "# Input numbers\n",
    "a = int(input(\"Enter the dividend: \"))\n",
    "b = int(input(\"Enter the divisor: \"))\n",
    "\n",
    "# Calculate quotient and remainder\n",
    "quotient = a // b\n",
    "remainder = a % b\n",
    "\n",
    "# Display results\n",
    "print(\"Quotient is:\", quotient)\n",
    "print(\"Remainder is:\", remainder)"
   ]
  },
  {
   "cell_type": "code",
   "execution_count": 10,
   "id": "61bb25da-8c46-4e21-9f57-e0c35489042b",
   "metadata": {},
   "outputs": [
    {
     "name": "stdout",
     "output_type": "stream",
     "text": [
      " 45\n"
     ]
    },
    {
     "name": "stdout",
     "output_type": "stream",
     "text": [
      "odd\n"
     ]
    }
   ],
   "source": [
    "k=int(input())\n",
    "s=(k//k)\n",
    "if s==1:\n",
    "    print(\"odd\")\n",
    "else:\n",
    "    print(\"eve\")"
   ]
  }
 ],
 "metadata": {
  "kernelspec": {
   "display_name": "Python 3 (ipykernel)",
   "language": "python",
   "name": "python3"
  },
  "language_info": {
   "codemirror_mode": {
    "name": "ipython",
    "version": 3
   },
   "file_extension": ".py",
   "mimetype": "text/x-python",
   "name": "python",
   "nbconvert_exporter": "python",
   "pygments_lexer": "ipython3",
   "version": "3.13.7"
  }
 },
 "nbformat": 4,
 "nbformat_minor": 5
}
