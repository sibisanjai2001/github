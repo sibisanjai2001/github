{
 "cells": [
  {
   "cell_type": "code",
   "execution_count": 4,
   "id": "13debdfe-b902-4846-ac8d-16338c388b1d",
   "metadata": {},
   "outputs": [
    {
     "name": "stdout",
     "output_type": "stream",
     "text": [
      "hi\n",
      "90\n"
     ]
    }
   ],
   "source": [
    "# time and space complexity\n",
    "\n",
    "## O(1) - Constant Time\n",
    "print(\"hi\")\n",
    "print(45+45)"
   ]
  },
  {
   "cell_type": "code",
   "execution_count": 13,
   "id": "4c6f3acd-37c1-4cdc-bf50-6cb7834c7b90",
   "metadata": {},
   "outputs": [
    {
     "name": "stdout",
     "output_type": "stream",
     "text": [
      "45\n",
      "12\n",
      "78\n",
      "56\n",
      "0\n"
     ]
    }
   ],
   "source": [
    "#O(n) - Linear Time\n",
    "k=(45,12,78,56,0)\n",
    "for i in k:\n",
    "    print(i)\n",
    "#based on lenth program will run \n",
    "# bast case, average case, wost case === we should consider the wost case"
   ]
  },
  {
   "cell_type": "raw",
   "id": "044c1135-d8f7-4337-b881-b7b592107660",
   "metadata": {},
   "source": [
    "Olog(n) lograthmic\n",
    "example;   lenth of array (put log) \n",
    "2 pointer"
   ]
  },
  {
   "cell_type": "raw",
   "id": "a196d612-f6ac-4961-8487-e39e3a5082bc",
   "metadata": {},
   "source": [
    "O(NlogN)      merget sot  lograthmic\n",
    "array lenth = 5\n",
    "5*log(5)\n",
    "================================================\n",
    "Quadratic\n",
    "O(N square 2)\n",
    "\n"
   ]
  },
  {
   "cell_type": "markdown",
   "id": "af56fe91-6feb-4969-a77f-046f9f8a50f8",
   "metadata": {},
   "source": [
    "==================================================\n",
    "space complexity\n",
    "(n) constant \n",
    "eg:  a=10\n",
    "\n",
    "==================================================\n",
    "O(n) linear\n",
    "eg: l=[45,12,85]\n",
    "take space based in the lenth \n",
    "\n",
    "==================================================\n",
    "O(log N)\n",
    "Eg; log N\n",
    "\n",
    "==================================================\n",
    "O(N square 2)\n",
    "eg:2 square 2   eg matri\n"
   ]
  },
  {
   "cell_type": "raw",
   "id": "a138331a-885e-4054-9b9c-bdc1ffe1788c",
   "metadata": {},
   "source": [
    "# array data type is stataic \n",
    "# mention data type  and mention the space  initally \n",
    "# continious store the data \n",
    "# Access , delete , insert, search check the time complexity\n",
    "# in python array is not fixed memorry\n",
    "# list and array almost same"
   ]
  },
  {
   "cell_type": "code",
   "execution_count": 17,
   "id": "b843512e-646a-4b1c-af17-7afb687b5349",
   "metadata": {},
   "outputs": [
    {
     "name": "stdout",
     "output_type": "stream",
     "text": [
      "array('i', [1, 2, 3, 4, 5])\n",
      "5\n",
      "array('i', [55, 1, 2, 3, 4, 5])\n"
     ]
    }
   ],
   "source": [
    "import array\n",
    "k=array.array(\"i\",[1,2,3,4,5])    #(I only positive number (i both positive and negative))\n",
    "print(k)\n",
    "print(k[4])\n",
    "k.insert(0,55)\n",
    "print(k)"
   ]
  },
  {
   "cell_type": "markdown",
   "id": "d80e6f5f-08d3-44c0-b32e-d8797fd44f92",
   "metadata": {},
   "source": [
    "## Searching Algorithms \n",
    "linear search  ( check one by one element)\n",
    "\n"
   ]
  },
  {
   "cell_type": "code",
   "execution_count": 20,
   "id": "84163380-7e95-4108-a6e4-91a96c9b7e4d",
   "metadata": {},
   "outputs": [
    {
     "name": "stdout",
     "output_type": "stream",
     "text": [
      "3\n",
      "yes\n"
     ]
    }
   ],
   "source": [
    "a=[45,25,6,3,78,45,14,25]\n",
    "x=3\n",
    "for i in range(0,len(a)):\n",
    "    if a[i]==x:\n",
    "        print(i)\n",
    "        break\n",
    "else:\n",
    "    print(\"not found\")\n",
    "\n",
    "#=============================\n",
    "for i in a:\n",
    "    if i == x:\n",
    "        print(\"yes\")\n",
    "        break\n",
    "else:\n",
    "    print(\"not there\")\n",
    "\n",
    "# binary search (divide the array into 2 parts will search the data )\n"
   ]
  },
  {
   "cell_type": "markdown",
   "id": "df1934a1-55bd-4baf-b522-b2b1e454ebdd",
   "metadata": {},
   "source": [
    "## Recursion"
   ]
  },
  {
   "cell_type": "code",
   "execution_count": 5,
   "id": "2e1cd428-8108-4870-b46f-168e62a41203",
   "metadata": {},
   "outputs": [
    {
     "name": "stdout",
     "output_type": "stream",
     "text": [
      "720\n",
      "reduce 1\n",
      "multiply 6\n",
      "reduce 6\n",
      "multiply 36\n",
      "reduce 36\n",
      "multiply 216\n",
      "reduce 216\n",
      "multiply 1296\n",
      "reduce 1296\n",
      "multiply 7776\n",
      "7776\n"
     ]
    }
   ],
   "source": [
    "n=6\n",
    "\n",
    "def fact(n):\n",
    "    if n == 1:\n",
    "        return 1\n",
    "    return n*fact(n-1)\n",
    "print(fact(n))\n",
    "\n",
    "k=6\n",
    "\n",
    "def facts(k):\n",
    "    if k == 1:\n",
    "        return 1\n",
    "    else:\n",
    "        factorial = facts(k-1)\n",
    "        print(\"reduce\",factorial)\n",
    "        m = n*factorial\n",
    "        print(\"multiply\",m)\n",
    "        return m\n",
    "print(facts(k))\n"
   ]
  },
  {
   "cell_type": "markdown",
   "id": "90e0f599-4775-4514-8c09-eab236090577",
   "metadata": {},
   "source": [
    "## Bubble Sort - Sorting Algorithm "
   ]
  },
  {
   "cell_type": "code",
   "execution_count": 2,
   "id": "d03391bb-8d8a-4dc7-aa5f-96f217111f6f",
   "metadata": {},
   "outputs": [
    {
     "name": "stdout",
     "output_type": "stream",
     "text": [
      "[4, 8, 12, 45, 45, 78, 85, 88, 89]\n"
     ]
    }
   ],
   "source": [
    "a=[45,12,85,89,45,4,78,8,88]\n",
    "\n",
    "for i in range (0, len(a)-1):  # this for loop determine the how many time to run\n",
    "    for j in range (0, len(a)-1):   # this for loop to change the value \n",
    "        if a[j]>a[j+1]:\n",
    "            a[j],a[j+1]=a[j+1],a[j]\n",
    "print(a)\n",
    "    "
   ]
  },
  {
   "cell_type": "code",
   "execution_count": 1,
   "id": "088e2478-00c8-4c69-b87a-39ccd11ba74a",
   "metadata": {},
   "outputs": [
    {
     "name": "stdout",
     "output_type": "stream",
     "text": [
      "[4, 8, 12, 45, 45, 78, 85, 88, 89]\n"
     ]
    }
   ],
   "source": [
    "a = [45, 12, 85, 89, 45, 4, 78, 8, 88]\n",
    "while True: \n",
    "    t = True  # Assume the list is sorted\n",
    "    for j in range(0, len(a) - 1):  # Iterate through the list\n",
    "        if a[j] > a[j+1]:  # Swap if elements are out of order\n",
    "            a[j], a[j+1] = a[j+1], a[j]\n",
    "            t = False  # Mark as not sorted since we made a swap\n",
    "    if t:  # If no swaps were made, the list is sorted\n",
    "        break  # Exit the while loop\n",
    "print(a)\n"
   ]
  },
  {
   "cell_type": "code",
   "execution_count": null,
   "id": "575ae634-33d3-4c37-adb3-b1dc3ca66429",
   "metadata": {},
   "outputs": [],
   "source": []
  }
 ],
 "metadata": {
  "kernelspec": {
   "display_name": "Python 3 (ipykernel)",
   "language": "python",
   "name": "python3"
  },
  "language_info": {
   "codemirror_mode": {
    "name": "ipython",
    "version": 3
   },
   "file_extension": ".py",
   "mimetype": "text/x-python",
   "name": "python",
   "nbconvert_exporter": "python",
   "pygments_lexer": "ipython3",
   "version": "3.13.3"
  }
 },
 "nbformat": 4,
 "nbformat_minor": 5
}
